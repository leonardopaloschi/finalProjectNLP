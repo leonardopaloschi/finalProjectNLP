{
 "cells": [
  {
   "cell_type": "markdown",
   "id": "24670dbb",
   "metadata": {},
   "source": [
    "## Notebook for execution of training and evaluation of the model."
   ]
  },
  {
   "cell_type": "code",
   "execution_count": 7,
   "id": "4d0cdf0d",
   "metadata": {},
   "outputs": [
    {
     "name": "stdout",
     "output_type": "stream",
     "text": [
      "index                                                             7199\n",
      "label                                                             true\n",
      "preprocessed_news    envolvo politica diz brasileiro preso venezuel...\n",
      "Name: 7199, dtype: object\n"
     ]
    }
   ],
   "source": [
    "import pandas as pd\n",
    "\n",
    "df = pd.read_csv('../data/pre-processed.csv')\n",
    "print(df.iloc[-1])\n"
   ]
  },
  {
   "cell_type": "code",
   "execution_count": null,
   "id": "390de6a2",
   "metadata": {},
   "outputs": [],
   "source": []
  }
 ],
 "metadata": {
  "kernelspec": {
   "display_name": "env",
   "language": "python",
   "name": "python3"
  },
  "language_info": {
   "codemirror_mode": {
    "name": "ipython",
    "version": 3
   },
   "file_extension": ".py",
   "mimetype": "text/x-python",
   "name": "python",
   "nbconvert_exporter": "python",
   "pygments_lexer": "ipython3",
   "version": "3.12.3"
  }
 },
 "nbformat": 4,
 "nbformat_minor": 5
}
