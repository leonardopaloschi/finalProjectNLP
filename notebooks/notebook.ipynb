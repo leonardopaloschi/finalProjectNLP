{
 "cells": [
  {
   "cell_type": "markdown",
   "id": "24670dbb",
   "metadata": {},
   "source": [
    "## Notebook for execution of training and evaluation of the model."
   ]
  },
  {
   "cell_type": "markdown",
   "id": "b91ace07",
   "metadata": {},
   "source": [
    "### Imports and Setup"
   ]
  },
  {
   "cell_type": "code",
   "execution_count": 1,
   "id": "4d0cdf0d",
   "metadata": {},
   "outputs": [
    {
     "name": "stdout",
     "output_type": "stream",
     "text": [
      "Using device: cuda\n"
     ]
    }
   ],
   "source": [
    "# General imports\n",
    "import numpy as np\n",
    "import pandas as pd\n",
    "import matplotlib.pyplot as plt\n",
    "from sklearn.model_selection import train_test_split\n",
    "from sklearn.metrics import classification_report, confusion_matrix\n",
    "\n",
    "# For reproducibility\n",
    "import random\n",
    "import torch\n",
    "random.seed(42)\n",
    "np.random.seed(42)\n",
    "torch.manual_seed(42)\n",
    "\n",
    "# Set device\n",
    "device = torch.device(\"cuda\" if torch.cuda.is_available() else \"cpu\")\n",
    "print(\"Using device:\", device)\n"
   ]
  },
  {
   "cell_type": "markdown",
   "id": "1ea6f6d2",
   "metadata": {},
   "source": [
    "### Load and Explore Data"
   ]
  },
  {
   "cell_type": "code",
   "execution_count": 2,
   "id": "390de6a2",
   "metadata": {},
   "outputs": [
    {
     "name": "stdout",
     "output_type": "stream",
     "text": [
      "   index label                                  preprocessed_news\n",
      "0      0  fake  katia abreu diz vai colocar expulsao moldura n...\n",
      "1      1  fake  ray peita bolsonaro conservador fake entrevist...\n",
      "2      2  fake  reinaldo azevedo desmascarado policia federal ...\n",
      "3      3  fake  relatorio assustador bndes mostra dinheiro pub...\n",
      "4      4  fake  radialista americano fala sobre pt vendem ilus...\n",
      "label\n",
      "fake    3600\n",
      "true    3600\n",
      "Name: count, dtype: int64\n",
      "count    7200.000000\n",
      "mean      366.438194\n",
      "std       379.080044\n",
      "min         5.000000\n",
      "25%        92.000000\n",
      "50%       210.000000\n",
      "75%       525.000000\n",
      "max      4229.000000\n",
      "Name: len, dtype: float64\n",
      "0.50     210.00\n",
      "0.75     525.00\n",
      "0.90     889.00\n",
      "0.95    1124.05\n",
      "0.99    1567.20\n",
      "Name: len, dtype: float64\n"
     ]
    },
    {
     "data": {
      "image/png": "[encoded data removed]",
      "text/plain": [
       "<Figure size 640x480 with 1 Axes>"
      ]
     },
     "metadata": {},
     "output_type": "display_data"
    }
   ],
   "source": [
    "# Load preprocessed data\n",
    "df = pd.read_csv('../data/raw/pre-processed.csv')\n",
    "print(df.head())\n",
    "print(df['label'].value_counts())\n",
    "\n",
    "# Profile text lengths\n",
    "df['len'] = df['preprocessed_news'].apply(lambda x: len(str(x).split()))\n",
    "print(df['len'].describe())\n",
    "print(df['len'].quantile([0.5, 0.75, 0.9, 0.95, 0.99]))\n",
    "\n",
    "# Optional: visualize length distribution\n",
    "plt.hist(df['len'], bins=50)\n",
    "plt.title(\"Distribution of Text Lengths\")\n",
    "plt.xlabel(\"Tokens per text\")\n",
    "plt.ylabel(\"Frequency\")\n",
    "plt.show()\n"
   ]
  },
  {
   "cell_type": "markdown",
   "id": "6a2b72e3",
   "metadata": {},
   "source": [
    "### Stratified Train/Val/Test Split"
   ]
  },
  {
   "cell_type": "code",
   "execution_count": 3,
   "id": "c1f370f8",
   "metadata": {},
   "outputs": [
    {
     "name": "stdout",
     "output_type": "stream",
     "text": [
      "Train size: 5040\n",
      "Val size: 1080\n",
      "Test size: 1080\n"
     ]
    }
   ],
   "source": [
    "# 70% train, 15% val, 15% test (stratified by label)\n",
    "df_train, df_temp = train_test_split(\n",
    "    df, test_size=0.30, stratify=df['label'], random_state=42\n",
    ")\n",
    "df_val, df_test = train_test_split(\n",
    "    df_temp, test_size=0.5, stratify=df_temp['label'], random_state=42\n",
    ")\n",
    "\n",
    "print(\"Train size:\", len(df_train))\n",
    "print(\"Val size:\", len(df_val))\n",
    "print(\"Test size:\", len(df_test))\n",
    "\n",
    "# Save splits (optional, or just use in memory)\n",
    "df_train.to_csv('../data/processed/train.csv', index=False)\n",
    "df_val.to_csv('../data/processed/val.csv', index=False)\n",
    "df_test.to_csv('../data/processed/test.csv', index=False)\n"
   ]
  },
  {
   "cell_type": "markdown",
   "id": "49d9b35b",
   "metadata": {},
   "source": [
    "### Stratified Train/Val/Test Split"
   ]
  },
  {
   "cell_type": "code",
   "execution_count": 4,
   "id": "2d9e4aae",
   "metadata": {},
   "outputs": [
    {
     "name": "stdout",
     "output_type": "stream",
     "text": [
      "Validation Metrics:\n",
      "              precision    recall  f1-score   support\n",
      "\n",
      "        fake       0.94      0.97      0.96       540\n",
      "        true       0.97      0.94      0.95       540\n",
      "\n",
      "    accuracy                           0.96      1080\n",
      "   macro avg       0.96      0.96      0.96      1080\n",
      "weighted avg       0.96      0.96      0.96      1080\n",
      "\n",
      "Test Metrics:\n",
      "              precision    recall  f1-score   support\n",
      "\n",
      "        fake       0.93      0.97      0.95       540\n",
      "        true       0.97      0.93      0.95       540\n",
      "\n",
      "    accuracy                           0.95      1080\n",
      "   macro avg       0.95      0.95      0.95      1080\n",
      "weighted avg       0.95      0.95      0.95      1080\n",
      "\n",
      "Confusion Matrix (Test):\n",
      "[[525  15]\n",
      " [ 37 503]]\n"
     ]
    }
   ],
   "source": [
    "from sklearn.feature_extraction.text import TfidfVectorizer\n",
    "from sklearn.linear_model import LogisticRegression\n",
    "\n",
    "# Prepare data\n",
    "X_train, y_train = df_train['preprocessed_news'], df_train['label']\n",
    "X_val, y_val = df_val['preprocessed_news'], df_val['label']\n",
    "X_test, y_test = df_test['preprocessed_news'], df_test['label']\n",
    "\n",
    "# TF-IDF Vectorizer (fit only on train!)\n",
    "tfidf = TfidfVectorizer(max_features=5000, ngram_range=(1,2))\n",
    "X_train_vec = tfidf.fit_transform(X_train)\n",
    "X_val_vec = tfidf.transform(X_val)\n",
    "X_test_vec = tfidf.transform(X_test)\n",
    "\n",
    "# Logistic Regression baseline\n",
    "clf = LogisticRegression(max_iter=1000, random_state=42)\n",
    "clf.fit(X_train_vec, y_train)\n",
    "\n",
    "# Evaluate\n",
    "print(\"Validation Metrics:\")\n",
    "val_pred = clf.predict(X_val_vec)\n",
    "print(classification_report(y_val, val_pred))\n",
    "\n",
    "print(\"Test Metrics:\")\n",
    "test_pred = clf.predict(X_test_vec)\n",
    "print(classification_report(y_test, test_pred))\n",
    "print(\"Confusion Matrix (Test):\")\n",
    "print(confusion_matrix(y_test, test_pred))\n"
   ]
  },
  {
   "cell_type": "markdown",
   "id": "d1f4daf2",
   "metadata": {},
   "source": [
    "### Embedding Extraction Function (Reusable for Both BERTs)"
   ]
  },
  {
   "cell_type": "code",
   "execution_count": 5,
   "id": "4b0b8d89",
   "metadata": {},
   "outputs": [],
   "source": [
    "from transformers import BertTokenizer, BertModel\n",
    "from tqdm import tqdm\n",
    "\n",
    "def get_embeddings_batch(texts, model, tokenizer, batch_size=8, max_len=512, device='cpu'):\n",
    "    embeddings = []\n",
    "    model.eval()\n",
    "    with torch.no_grad():\n",
    "        for i in tqdm(range(0, len(texts), batch_size)):\n",
    "            batch_texts = texts[i:i+batch_size]\n",
    "            encodings = tokenizer(batch_texts,\n",
    "                                  return_tensors='pt',\n",
    "                                  padding=True,\n",
    "                                  truncation=True,\n",
    "                                  max_length=max_len)\n",
    "            input_ids = encodings['input_ids'].to(device)\n",
    "            attention_mask = encodings['attention_mask'].to(device)\n",
    "            outputs = model(input_ids=input_ids, attention_mask=attention_mask)\n",
    "            # CLS token for each sequence\n",
    "            cls_embeddings = outputs.last_hidden_state[:, 0, :].cpu().numpy()\n",
    "            embeddings.append(cls_embeddings)\n",
    "    embeddings = np.concatenate(embeddings, axis=0)\n",
    "    return embeddings\n"
   ]
  },
  {
   "cell_type": "markdown",
   "id": "18dae680",
   "metadata": {},
   "source": [
    "### Embedding Extraction Function (Reusable for Both BERTs)"
   ]
  },
  {
   "cell_type": "code",
   "execution_count": 6,
   "id": "6a3126a4",
   "metadata": {},
   "outputs": [
    {
     "name": "stderr",
     "output_type": "stream",
     "text": [
      "100%|██████████| 630/630 [02:37<00:00,  4.01it/s]\n",
      "100%|██████████| 135/135 [00:37<00:00,  3.61it/s]\n",
      "100%|██████████| 135/135 [00:38<00:00,  3.54it/s]\n"
     ]
    }
   ],
   "source": [
    "# BERT-base-uncased (English baseline)\n",
    "tokenizer_en = BertTokenizer.from_pretrained('bert-base-uncased')\n",
    "model_en = BertModel.from_pretrained('bert-base-uncased').to(device)\n",
    "\n",
    "X_train_en = df_train['preprocessed_news'].tolist()\n",
    "X_val_en = df_val['preprocessed_news'].tolist()\n",
    "X_test_en = df_test['preprocessed_news'].tolist()\n",
    "\n",
    "# Embeddings (this will take time, consider batch_size=8 or 16 for large texts)\n",
    "emb_train_en = get_embeddings_batch(X_train_en, model_en, tokenizer_en, batch_size=8, max_len=512, device=device)\n",
    "emb_val_en = get_embeddings_batch(X_val_en, model_en, tokenizer_en, batch_size=8, max_len=512, device=device)\n",
    "emb_test_en = get_embeddings_batch(X_test_en, model_en, tokenizer_en, batch_size=8, max_len=512, device=device)\n",
    "\n",
    "np.save('../outputs/emb_train_en.npy', emb_train_en)\n",
    "np.save('../outputs/emb_val_en.npy', emb_val_en)\n",
    "np.save('../outputs/emb_test_en.npy', emb_test_en)\n"
   ]
  },
  {
   "cell_type": "markdown",
   "id": "c0b3721c",
   "metadata": {},
   "source": [
    "### Extract and Save Embeddings – BERTimbau (Portuguese BERT)"
   ]
  },
  {
   "cell_type": "code",
   "execution_count": 7,
   "id": "4a7e700e",
   "metadata": {},
   "outputs": [
    {
     "name": "stderr",
     "output_type": "stream",
     "text": [
      "100%|██████████| 630/630 [02:48<00:00,  3.74it/s]\n",
      "100%|██████████| 135/135 [00:37<00:00,  3.60it/s]\n",
      "100%|██████████| 135/135 [00:35<00:00,  3.79it/s]\n"
     ]
    }
   ],
   "source": [
    "# BERTimbau (Portuguese)\n",
    "tokenizer_pt = BertTokenizer.from_pretrained('neuralmind/bert-base-portuguese-cased')\n",
    "model_pt = BertModel.from_pretrained('neuralmind/bert-base-portuguese-cased').to(device)\n",
    "\n",
    "X_train_pt = df_train['preprocessed_news'].tolist()\n",
    "X_val_pt = df_val['preprocessed_news'].tolist()\n",
    "X_test_pt = df_test['preprocessed_news'].tolist()\n",
    "\n",
    "emb_train_pt = get_embeddings_batch(X_train_pt, model_pt, tokenizer_pt, batch_size=8, max_len=512, device=device)\n",
    "emb_val_pt = get_embeddings_batch(X_val_pt, model_pt, tokenizer_pt, batch_size=8, max_len=512, device=device)\n",
    "emb_test_pt = get_embeddings_batch(X_test_pt, model_pt, tokenizer_pt, batch_size=8, max_len=512, device=device)\n",
    "\n",
    "np.save('../outputs/emb_train_pt.npy', emb_train_pt)\n",
    "np.save('../outputs/emb_val_pt.npy', emb_val_pt)\n",
    "np.save('../outputs/emb_test_pt.npy', emb_test_pt)"
   ]
  },
  {
   "cell_type": "markdown",
   "id": "f3dc2012",
   "metadata": {},
   "source": [
    "### Train Classifier on Embeddings (Reusable Function)"
   ]
  },
  {
   "cell_type": "code",
   "execution_count": 8,
   "id": "54cb685c",
   "metadata": {},
   "outputs": [],
   "source": [
    "from sklearn.metrics import classification_report, confusion_matrix\n",
    "\n",
    "def train_and_evaluate(X_train, y_train, X_val, y_val, X_test, y_test, model_name=\"Model\"):\n",
    "    clf = LogisticRegression(max_iter=1000, random_state=42)\n",
    "    clf.fit(X_train, y_train)\n",
    "    val_pred = clf.predict(X_val)\n",
    "    val_report = classification_report(y_val, val_pred, output_dict=True)\n",
    "    test_pred = clf.predict(X_test)\n",
    "    test_report = classification_report(y_test, test_pred, output_dict=True)\n",
    "    print(f\"{model_name} - Test Metrics:\")\n",
    "    print(classification_report(y_test, test_pred))\n",
    "    print(\"Confusion Matrix (Test):\")\n",
    "    print(confusion_matrix(y_test, test_pred))\n",
    "    return clf, test_report\n"
   ]
  },
  {
   "cell_type": "markdown",
   "id": "526aa559",
   "metadata": {},
   "source": [
    "### Run Classifier on Each Set of Embeddings"
   ]
  },
  {
   "cell_type": "code",
   "execution_count": 9,
   "id": "8321cb01",
   "metadata": {},
   "outputs": [
    {
     "name": "stdout",
     "output_type": "stream",
     "text": [
      "TF-IDF + LogisticRegression - Test Metrics:\n",
      "              precision    recall  f1-score   support\n",
      "\n",
      "        fake       0.93      0.97      0.95       540\n",
      "        true       0.97      0.93      0.95       540\n",
      "\n",
      "    accuracy                           0.95      1080\n",
      "   macro avg       0.95      0.95      0.95      1080\n",
      "weighted avg       0.95      0.95      0.95      1080\n",
      "\n",
      "Confusion Matrix (Test):\n",
      "[[525  15]\n",
      " [ 37 503]]\n",
      "BERT-base-uncased + LR - Test Metrics:\n",
      "              precision    recall  f1-score   support\n",
      "\n",
      "        fake       0.96      0.90      0.93       540\n",
      "        true       0.91      0.96      0.93       540\n",
      "\n",
      "    accuracy                           0.93      1080\n",
      "   macro avg       0.93      0.93      0.93      1080\n",
      "weighted avg       0.93      0.93      0.93      1080\n",
      "\n",
      "Confusion Matrix (Test):\n",
      "[[487  53]\n",
      " [ 21 519]]\n",
      "BERTimbau + LR - Test Metrics:\n",
      "              precision    recall  f1-score   support\n",
      "\n",
      "        fake       0.97      0.95      0.96       540\n",
      "        true       0.95      0.97      0.96       540\n",
      "\n",
      "    accuracy                           0.96      1080\n",
      "   macro avg       0.96      0.96      0.96      1080\n",
      "weighted avg       0.96      0.96      0.96      1080\n",
      "\n",
      "Confusion Matrix (Test):\n",
      "[[513  27]\n",
      " [ 17 523]]\n"
     ]
    },
    {
     "data": {
      "text/html": [
       "<div>\n",
       "<style scoped>\n",
       "    .dataframe tbody tr th:only-of-type {\n",
       "        vertical-align: middle;\n",
       "    }\n",
       "\n",
       "    .dataframe tbody tr th {\n",
       "        vertical-align: top;\n",
       "    }\n",
       "\n",
       "    .dataframe thead th {\n",
       "        text-align: right;\n",
       "    }\n",
       "</style>\n",
       "<table border=\"1\" class=\"dataframe\">\n",
       "  <thead>\n",
       "    <tr style=\"text-align: right;\">\n",
       "      <th></th>\n",
       "      <th>Model</th>\n",
       "      <th>F1-Score</th>\n",
       "      <th>Accuracy</th>\n",
       "      <th>Precision</th>\n",
       "      <th>Recall</th>\n",
       "    </tr>\n",
       "  </thead>\n",
       "  <tbody>\n",
       "    <tr>\n",
       "      <th>0</th>\n",
       "      <td>TF-IDF + LogisticRegression</td>\n",
       "      <td>0.951832</td>\n",
       "      <td>0.951852</td>\n",
       "      <td>0.952603</td>\n",
       "      <td>0.951852</td>\n",
       "    </tr>\n",
       "    <tr>\n",
       "      <th>1</th>\n",
       "      <td>BERT-base-uncased + LR</td>\n",
       "      <td>0.931421</td>\n",
       "      <td>0.931481</td>\n",
       "      <td>0.933002</td>\n",
       "      <td>0.931481</td>\n",
       "    </tr>\n",
       "    <tr>\n",
       "      <th>2</th>\n",
       "      <td>BERTimbau + LR</td>\n",
       "      <td>0.959256</td>\n",
       "      <td>0.959259</td>\n",
       "      <td>0.959417</td>\n",
       "      <td>0.959259</td>\n",
       "    </tr>\n",
       "  </tbody>\n",
       "</table>\n",
       "</div>"
      ],
      "text/plain": [
       "                         Model  F1-Score  Accuracy  Precision    Recall\n",
       "0  TF-IDF + LogisticRegression  0.951832  0.951852   0.952603  0.951852\n",
       "1       BERT-base-uncased + LR  0.931421  0.931481   0.933002  0.931481\n",
       "2               BERTimbau + LR  0.959256  0.959259   0.959417  0.959259"
      ]
     },
     "metadata": {},
     "output_type": "display_data"
    }
   ],
   "source": [
    "# Prepare labels (already done above)\n",
    "y_train = df_train['label'].values\n",
    "y_val = df_val['label'].values\n",
    "y_test = df_test['label'].values\n",
    "\n",
    "# (Re)load embeddings as needed\n",
    "emb_train_en = np.load('../outputs/emb_train_en.npy')\n",
    "emb_val_en = np.load('../outputs/emb_val_en.npy')\n",
    "emb_test_en = np.load('../outputs/emb_test_en.npy')\n",
    "\n",
    "emb_train_pt = np.load('../outputs/emb_train_pt.npy')\n",
    "emb_val_pt = np.load('../outputs/emb_val_pt.npy')\n",
    "emb_test_pt = np.load('../outputs/emb_test_pt.npy')\n",
    "\n",
    "# (Re)load TF-IDF features for test\n",
    "X_train_vec = tfidf.transform(X_train)\n",
    "X_val_vec = tfidf.transform(X_val)\n",
    "X_test_vec = tfidf.transform(X_test)\n",
    "\n",
    "# Train and evaluate all models\n",
    "results = []\n",
    "\n",
    "# TF-IDF + LR\n",
    "_, report_tfidf = train_and_evaluate(X_train_vec, y_train, X_val_vec, y_val, X_test_vec, y_test, model_name=\"TF-IDF + LogisticRegression\")\n",
    "results.append({\n",
    "    \"Model\": \"TF-IDF + LogisticRegression\",\n",
    "    \"F1-Score\": report_tfidf['weighted avg']['f1-score'],\n",
    "    \"Accuracy\": report_tfidf['accuracy'],\n",
    "    \"Precision\": report_tfidf['weighted avg']['precision'],\n",
    "    \"Recall\": report_tfidf['weighted avg']['recall']\n",
    "})\n",
    "\n",
    "# BERT-base-uncased + LR\n",
    "clf_en, report_en = train_and_evaluate(emb_train_en, y_train, emb_val_en, y_val, emb_test_en, y_test, model_name=\"BERT-base-uncased + LR\")\n",
    "results.append({\n",
    "    \"Model\": \"BERT-base-uncased + LR\",\n",
    "    \"F1-Score\": report_en['weighted avg']['f1-score'],\n",
    "    \"Accuracy\": report_en['accuracy'],\n",
    "    \"Precision\": report_en['weighted avg']['precision'],\n",
    "    \"Recall\": report_en['weighted avg']['recall']\n",
    "})\n",
    "\n",
    "# BERTimbau + LR\n",
    "clf_pt, report_pt = train_and_evaluate(emb_train_pt, y_train, emb_val_pt, y_val, emb_test_pt, y_test, model_name=\"BERTimbau + LR\")\n",
    "results.append({\n",
    "    \"Model\": \"BERTimbau + LR\",\n",
    "    \"F1-Score\": report_pt['weighted avg']['f1-score'],\n",
    "    \"Accuracy\": report_pt['accuracy'],\n",
    "    \"Precision\": report_pt['weighted avg']['precision'],\n",
    "    \"Recall\": report_pt['weighted avg']['recall']\n",
    "})\n",
    "\n",
    "results_df = pd.DataFrame(results)\n",
    "display(results_df)\n"
   ]
  },
  {
   "cell_type": "markdown",
   "id": "c8abf8fd",
   "metadata": {},
   "source": [
    "### Results Table and Visualization"
   ]
  },
  {
   "cell_type": "code",
   "execution_count": 10,
   "id": "91d2e399",
   "metadata": {},
   "outputs": [
    {
     "data": {
      "image/png": "[encoded data removed]",
      "text/plain": [
       "<Figure size 1000x500 with 1 Axes>"
      ]
     },
     "metadata": {},
     "output_type": "display_data"
    }
   ],
   "source": [
    "# Plot as before\n",
    "results_df.plot(x=\"Model\", y=[\"F1-Score\", \"Accuracy\", \"Precision\", \"Recall\"], kind=\"bar\", figsize=(10,5))\n",
    "plt.ylabel(\"Score\")\n",
    "plt.title(\"Comparison of Models\")\n",
    "plt.ylim(0.8,1.0)\n",
    "plt.legend(loc=\"lower right\")\n",
    "plt.show()"
   ]
  },
  {
   "cell_type": "markdown",
   "id": "cb41a290",
   "metadata": {},
   "source": [
    "## New dataset to compare the original training"
   ]
  },
  {
   "cell_type": "code",
   "execution_count": 11,
   "id": "7cd69b03",
   "metadata": {},
   "outputs": [
    {
     "name": "stdout",
     "output_type": "stream",
     "text": [
      "Fake news columns: Index(['title', 'text', 'origin', 'url', 'label', 'publisher_name',\n",
      "       'publisher_site', 'date'],\n",
      "      dtype='object')\n",
      "                                               title  \\\n",
      "0  Vídeo com vaias a Nando Reis teve áudio manipu...   \n",
      "1  Documentos confirmam uso de dinheiro vivo na c...   \n",
      "\n",
      "                                                text           origin  \\\n",
      "0           “Nando Reis se F… Se F…. no Rock in Rio”           pessoa   \n",
      "1  “Não foi dinheiro vivo. Moeda corrente, quer d...  Cristina Graeml   \n",
      "\n",
      "                                                 url  label publisher_name  \\\n",
      "0  https://lupa.uol.com.br/jornalismo/2022/09/09/...      1     Lupa - UOL   \n",
      "1  https://lupa.uol.com.br/jornalismo/2022/09/09/...      1     Lupa - UOL   \n",
      "\n",
      "    publisher_site                  date  \n",
      "0  lupa.uol.com.br                   NaN  \n",
      "1  lupa.uol.com.br  2022-09-06T00:00:00Z  \n",
      "True news columns: Index(['title', 'text', 'origin', 'url', 'label', 'publisher_name',\n",
      "       'publisher_site', 'date'],\n",
      "      dtype='object')\n",
      "                                               title  \\\n",
      "0  Jovem Pan: o que é falso e o que é verdadeiro ...   \n",
      "1  Jovem Pan: o que é falso e o que é verdadeiro ...   \n",
      "\n",
      "                                                text          origin  \\\n",
      "0  As propostas de manter zerados impostos federa...  Jair Bolsonaro   \n",
      "1  Estatais dão lucro de mais de R$ 100 bilhões e...  Jair Bolsonaro   \n",
      "\n",
      "                                                 url  label publisher_name  \\\n",
      "0  https://lupa.uol.com.br/jornalismo/2022/09/06/...      0     Lupa - UOL   \n",
      "1  https://lupa.uol.com.br/jornalismo/2022/09/06/...      0     Lupa - UOL   \n",
      "\n",
      "    publisher_site date  \n",
      "0  lupa.uol.com.br  NaN  \n",
      "1  lupa.uol.com.br  NaN  \n"
     ]
    }
   ],
   "source": [
    "import pandas as pd\n",
    "\n",
    "# Load a few rows from each file to check columns\n",
    "df_fake = pd.read_csv('../data/raw/fakes.csv')\n",
    "df_true = pd.read_csv('../data/raw/true.csv')\n",
    "\n",
    "print(\"Fake news columns:\", df_fake.columns)\n",
    "print(df_fake.head(2))\n",
    "print(\"True news columns:\", df_true.columns)\n",
    "print(df_true.head(2))\n"
   ]
  },
  {
   "cell_type": "markdown",
   "id": "cc8cd9ea",
   "metadata": {},
   "source": [
    "### Merging both datasets"
   ]
  },
  {
   "cell_type": "code",
   "execution_count": 12,
   "id": "e33e272e",
   "metadata": {},
   "outputs": [
    {
     "name": "stdout",
     "output_type": "stream",
     "text": [
      "label\n",
      "fake    20478\n",
      "true     2720\n",
      "Name: count, dtype: int64\n",
      "                                   preprocessed_news label\n",
      "0           “Nando Reis se F… Se F…. no Rock in Rio”  fake\n",
      "1  “Não foi dinheiro vivo. Moeda corrente, quer d...  fake\n",
      "2  “Em seus últimos momentos de vida, rainha Eliz...  fake\n",
      "3  “TSE MARCOU PARA PRÓXIMA SEMANA JULGAMENTO OND...  fake\n",
      "4  De repente, a Ivermectina aparece no site do N...  fake\n"
     ]
    }
   ],
   "source": [
    "# Suppose the main text column is \"text\" in both (adjust as needed after inspection)\n",
    "main_text_col = 'text'  # or 'content', 'title', etc.\n",
    "\n",
    "df_fake['label'] = 'fake'\n",
    "df_true['label'] = 'true'\n",
    "\n",
    "# Select only relevant columns: main_text_col and label\n",
    "df_fake = df_fake[[main_text_col, 'label']]\n",
    "df_true = df_true[[main_text_col, 'label']]\n",
    "\n",
    "# Rename the text column to match your existing dataset (e.g., 'preprocessed_news')\n",
    "df_fake = df_fake.rename(columns={main_text_col: 'preprocessed_news'})\n",
    "df_true = df_true.rename(columns={main_text_col: 'preprocessed_news'})\n",
    "\n",
    "# Merge both into a single DataFrame\n",
    "df_test = pd.concat([df_fake, df_true], ignore_index=True)\n",
    "print(df_test['label'].value_counts())\n",
    "print(df_test.head())\n"
   ]
  },
  {
   "cell_type": "markdown",
   "id": "c9e9dc28",
   "metadata": {},
   "source": [
    "### Testing the trained models"
   ]
  },
  {
   "cell_type": "code",
   "execution_count": 13,
   "id": "1596a4f5",
   "metadata": {},
   "outputs": [
    {
     "name": "stdout",
     "output_type": "stream",
     "text": [
      "TF-IDF + LR results on Kaggle FakeNews Test Set:\n",
      "              precision    recall  f1-score   support\n",
      "\n",
      "        fake       0.88      1.00      0.94     20478\n",
      "        true       0.00      0.00      0.00      2720\n",
      "\n",
      "    accuracy                           0.88     23198\n",
      "   macro avg       0.44      0.50      0.47     23198\n",
      "weighted avg       0.78      0.88      0.83     23198\n",
      "\n",
      "Confusion Matrix:\n",
      "[[20471     7]\n",
      " [ 2720     0]]\n"
     ]
    }
   ],
   "source": [
    "# Transform the new test set using your existing TF-IDF vectorizer\n",
    "X_test_vec = tfidf.transform(df_test['preprocessed_news'])\n",
    "\n",
    "# Predict using your already-trained classifier\n",
    "y_pred_tfidf = clf.predict(X_test_vec)\n",
    "\n",
    "# Evaluate\n",
    "from sklearn.metrics import classification_report, confusion_matrix\n",
    "print(\"TF-IDF + LR results on Kaggle FakeNews Test Set:\")\n",
    "print(classification_report(df_test['label'], y_pred_tfidf))\n",
    "print(\"Confusion Matrix:\")\n",
    "print(confusion_matrix(df_test['label'], y_pred_tfidf))\n"
   ]
  },
  {
   "cell_type": "code",
   "execution_count": 14,
   "id": "b1e6f5e8",
   "metadata": {},
   "outputs": [
    {
     "name": "stderr",
     "output_type": "stream",
     "text": [
      "100%|██████████| 2900/2900 [01:51<00:00, 26.04it/s]\n",
      "100%|██████████| 2900/2900 [01:26<00:00, 33.67it/s]\n"
     ]
    }
   ],
   "source": [
    "# Para BERT-base-uncased\n",
    "emb_test_en = get_embeddings_batch(\n",
    "    df_test['preprocessed_news'].tolist(),\n",
    "    model_en, tokenizer_en, batch_size=8, max_len=512, device=device\n",
    ")\n",
    "\n",
    "# Para BERTimbau\n",
    "emb_test_pt = get_embeddings_batch(\n",
    "    df_test['preprocessed_news'].tolist(),\n",
    "    model_pt, tokenizer_pt, batch_size=8, max_len=512, device=device\n",
    ")\n"
   ]
  },
  {
   "cell_type": "code",
   "execution_count": 15,
   "id": "f6291844",
   "metadata": {},
   "outputs": [],
   "source": [
    "# Previsões\n",
    "y_pred_bert = clf_en.predict(emb_test_en)\n",
    "y_pred_bertimbau = clf_pt.predict(emb_test_pt)\n"
   ]
  },
  {
   "cell_type": "code",
   "execution_count": 16,
   "id": "c2736c55",
   "metadata": {},
   "outputs": [
    {
     "name": "stdout",
     "output_type": "stream",
     "text": [
      "BERT-base-uncased + LR results on Kaggle FakeNews Test Set:\n",
      "              precision    recall  f1-score   support\n",
      "\n",
      "        fake       0.88      1.00      0.94     20478\n",
      "        true       0.14      0.00      0.00      2720\n",
      "\n",
      "    accuracy                           0.88     23198\n",
      "   macro avg       0.51      0.50      0.47     23198\n",
      "weighted avg       0.80      0.88      0.83     23198\n",
      "\n",
      "Confusion Matrix:\n",
      "[[20472     6]\n",
      " [ 2719     1]]\n",
      "\n",
      "BERTimbau + LR results on Kaggle FakeNews Test Set:\n",
      "              precision    recall  f1-score   support\n",
      "\n",
      "        fake       0.88      1.00      0.94     20478\n",
      "        true       0.13      0.01      0.01      2720\n",
      "\n",
      "    accuracy                           0.88     23198\n",
      "   macro avg       0.51      0.50      0.47     23198\n",
      "weighted avg       0.79      0.88      0.83     23198\n",
      "\n",
      "Confusion Matrix:\n",
      "[[20380    98]\n",
      " [ 2705    15]]\n"
     ]
    }
   ],
   "source": [
    "from sklearn.metrics import classification_report, confusion_matrix\n",
    "\n",
    "print(\"BERT-base-uncased + LR results on Kaggle FakeNews Test Set:\")\n",
    "print(classification_report(df_test['label'], y_pred_bert))\n",
    "print(\"Confusion Matrix:\")\n",
    "print(confusion_matrix(df_test['label'], y_pred_bert))\n",
    "\n",
    "print(\"\\nBERTimbau + LR results on Kaggle FakeNews Test Set:\")\n",
    "print(classification_report(df_test['label'], y_pred_bertimbau))\n",
    "print(\"Confusion Matrix:\")\n",
    "print(confusion_matrix(df_test['label'], y_pred_bertimbau))\n"
   ]
  },
  {
   "cell_type": "code",
   "execution_count": null,
   "id": "38f06ce6",
   "metadata": {},
   "outputs": [],
   "source": []
  }
 ],
 "metadata": {
  "kernelspec": {
   "display_name": ".venv",
   "language": "python",
   "name": "python3"
  },
  "language_info": {
   "codemirror_mode": {
    "name": "ipython",
    "version": 3
   },
   "file_extension": ".py",
   "mimetype": "text/x-python",
   "name": "python",
   "nbconvert_exporter": "python",
   "pygments_lexer": "ipython3",
   "version": "3.12.5"
  }
 },
 "nbformat": 4,
 "nbformat_minor": 5
}
