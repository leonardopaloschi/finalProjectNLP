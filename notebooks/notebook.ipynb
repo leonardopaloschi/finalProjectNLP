{
 "cells": [
  {
   "cell_type": "markdown",
   "id": "24670dbb",
   "metadata": {},
   "source": [
    "## Notebook for execution of training and evaluation of the model."
   ]
  },
  {
   "cell_type": "code",
   "execution_count": null,
   "id": "4d0cdf0d",
   "metadata": {
    "vscode": {
     "languageId": "plaintext"
    }
   },
   "outputs": [],
   "source": [
    "import pandas as pd\n",
    "\n",
    "df = pd.read_csv('data/pre-processed.csv')\n",
    "df.head()"
   ]
  },
  {
   "cell_type": "code",
   "execution_count": null,
   "id": "390de6a2",
   "metadata": {
    "vscode": {
     "languageId": "plaintext"
    }
   },
   "outputs": [],
   "source": []
  }
 ],
 "metadata": {
  "language_info": {
   "name": "python"
  }
 },
 "nbformat": 4,
 "nbformat_minor": 5
}
