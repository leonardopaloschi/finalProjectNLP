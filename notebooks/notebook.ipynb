{
 "cells": [
  {
   "cell_type": "markdown",
   "id": "24670dbb",
   "metadata": {},
   "source": [
    "## Notebook for execution of training and evaluation of the model."
   ]
  },
  {
   "cell_type": "code",
   "execution_count": 1,
   "id": "4d0cdf0d",
   "metadata": {},
   "outputs": [
    {
     "name": "stdout",
     "output_type": "stream",
     "text": [
      "index                                                             7199\n",
      "label                                                             true\n",
      "preprocessed_news    envolvo politica diz brasileiro preso venezuel...\n",
      "Name: 7199, dtype: object\n"
     ]
    }
   ],
   "source": [
    "import pandas as pd\n",
    "\n",
    "df = pd.read_csv('../data/raw/pre-processed.csv')\n",
    "print(df.iloc[-1])\n"
   ]
  },
  {
   "cell_type": "code",
   "execution_count": 3,
   "id": "390de6a2",
   "metadata": {},
   "outputs": [
    {
     "name": "stdout",
     "output_type": "stream",
     "text": [
      "label\n",
      "fake    3600\n",
      "true    3600\n",
      "Name: count, dtype: int64\n",
      "Train size: 5040\n",
      "Val size: 1080\n",
      "Test size: 1080\n"
     ]
    }
   ],
   "source": [
    "import pandas as pd\n",
    "from sklearn.model_selection import train_test_split\n",
    "\n",
    "# Load preprocessed data\n",
    "df = pd.read_csv('../data/raw/pre-processed.csv')  \n",
    "\n",
    "# Confirm class balance\n",
    "print(df['label'].value_counts())\n",
    "\n",
    "# Split: 70% train, 15% val, 15% test\n",
    "df_train, df_temp = train_test_split(\n",
    "    df, test_size=0.30, stratify=df['label'], random_state=42\n",
    ")\n",
    "df_val, df_test = train_test_split(\n",
    "    df_temp, test_size=0.5, stratify=df_temp['label'], random_state=42\n",
    ")\n",
    "\n",
    "print(\"Train size:\", len(df_train))\n",
    "print(\"Val size:\", len(df_val))\n",
    "print(\"Test size:\", len(df_test))\n",
    "\n",
    "# Save splits\n",
    "df_train.to_csv('../data/processed/train.csv', index=False)\n",
    "df_val.to_csv('../data/processed/val.csv', index=False)\n",
    "df_test.to_csv('../data/processed/test.csv', index=False)\n"
   ]
  },
  {
   "cell_type": "code",
   "execution_count": 5,
   "id": "c1f370f8",
   "metadata": {},
   "outputs": [
    {
     "name": "stdout",
     "output_type": "stream",
     "text": [
      "Validation Metrics:\n",
      "              precision    recall  f1-score   support\n",
      "\n",
      "        fake       0.94      0.97      0.96       540\n",
      "        true       0.97      0.94      0.95       540\n",
      "\n",
      "    accuracy                           0.96      1080\n",
      "   macro avg       0.96      0.96      0.96      1080\n",
      "weighted avg       0.96      0.96      0.96      1080\n",
      "\n",
      "Test Metrics:\n",
      "              precision    recall  f1-score   support\n",
      "\n",
      "        fake       0.93      0.97      0.95       540\n",
      "        true       0.97      0.93      0.95       540\n",
      "\n",
      "    accuracy                           0.95      1080\n",
      "   macro avg       0.95      0.95      0.95      1080\n",
      "weighted avg       0.95      0.95      0.95      1080\n",
      "\n",
      "Confusion Matrix (Test):\n",
      "[[525  15]\n",
      " [ 37 503]]\n"
     ]
    }
   ],
   "source": [
    "import pandas as pd\n",
    "from sklearn.feature_extraction.text import TfidfVectorizer\n",
    "from sklearn.linear_model import LogisticRegression\n",
    "from sklearn.metrics import classification_report, confusion_matrix\n",
    "\n",
    "# Load splits\n",
    "df_train = pd.read_csv('../data/processed/train.csv')\n",
    "df_val = pd.read_csv('../data/processed/val.csv')\n",
    "df_test = pd.read_csv('../data/processed/test.csv')\n",
    "\n",
    "# Prepare features and labels\n",
    "X_train, y_train = df_train['preprocessed_news'], df_train['label']\n",
    "X_val, y_val = df_val['preprocessed_news'], df_val['label']\n",
    "X_test, y_test = df_test['preprocessed_news'], df_test['label']\n",
    "\n",
    "# TF-IDF Vectorizer (fit only on train!)\n",
    "tfidf = TfidfVectorizer(max_features=5000, ngram_range=(1,2))\n",
    "X_train_vec = tfidf.fit_transform(X_train)\n",
    "X_val_vec = tfidf.transform(X_val)\n",
    "X_test_vec = tfidf.transform(X_test)\n",
    "\n",
    "# Logistic Regression\n",
    "clf = LogisticRegression(max_iter=1000, random_state=42)\n",
    "clf.fit(X_train_vec, y_train)\n",
    "\n",
    "# Validation metrics\n",
    "val_pred = clf.predict(X_val_vec)\n",
    "print(\"Validation Metrics:\")\n",
    "print(classification_report(y_val, val_pred))\n",
    "\n",
    "# Test metrics\n",
    "test_pred = clf.predict(X_test_vec)\n",
    "print(\"Test Metrics:\")\n",
    "print(classification_report(y_test, test_pred))\n",
    "print(\"Confusion Matrix (Test):\")\n",
    "print(confusion_matrix(y_test, test_pred))\n"
   ]
  },
  {
   "cell_type": "code",
   "execution_count": 13,
   "id": "2d9e4aae",
   "metadata": {},
   "outputs": [
    {
     "name": "stdout",
     "output_type": "stream",
     "text": [
      "count    7200.000000\n",
      "mean      366.438194\n",
      "std       379.080044\n",
      "min         5.000000\n",
      "25%        92.000000\n",
      "50%       210.000000\n",
      "75%       525.000000\n",
      "max      4229.000000\n",
      "Name: len, dtype: float64\n",
      "0.50     210.00\n",
      "0.75     525.00\n",
      "0.90     889.00\n",
      "0.95    1124.05\n",
      "0.99    1567.20\n",
      "Name: len, dtype: float64\n"
     ]
    },
    {
     "data": {
      "image/png": "[encoded data removed]",
      "text/plain": [
       "<Figure size 640x480 with 1 Axes>"
      ]
     },
     "metadata": {},
     "output_type": "display_data"
    }
   ],
   "source": [
    "import pandas as pd\n",
    "\n",
    "df = pd.read_csv('../data/raw/pre-processed.csv')  # or wherever you load your data\n",
    "\n",
    "# Add this block to profile input lengths\n",
    "df['len'] = df['preprocessed_news'].apply(lambda x: len(str(x).split()))\n",
    "print(df['len'].describe())\n",
    "print(df['len'].quantile([0.5, 0.75, 0.9, 0.95, 0.99]))  # medians, percentiles\n",
    "\n",
    "# Optional: visualize with a histogram\n",
    "import matplotlib.pyplot as plt\n",
    "plt.hist(df['len'], bins=50)\n",
    "plt.title(\"Distribution of Text Lengths\")\n",
    "plt.xlabel(\"Tokens per text\")\n",
    "plt.ylabel(\"Frequency\")\n",
    "plt.show()\n"
   ]
  },
  {
   "cell_type": "code",
   "execution_count": null,
   "id": "4b0b8d89",
   "metadata": {},
   "outputs": [
    {
     "name": "stdout",
     "output_type": "stream",
     "text": [
      "Using device: cuda\n"
     ]
    },
    {
     "name": "stderr",
     "output_type": "stream",
     "text": [
      " 13%|█▎        | 113/900 [00:32<03:45,  3.49it/s]\n"
     ]
    },
    {
     "ename": "KeyboardInterrupt",
     "evalue": "",
     "output_type": "error",
     "traceback": [
      "\u001b[31m---------------------------------------------------------------------------\u001b[39m",
      "\u001b[31mKeyboardInterrupt\u001b[39m                         Traceback (most recent call last)",
      "\u001b[36mCell\u001b[39m\u001b[36m \u001b[39m\u001b[32mIn[12]\u001b[39m\u001b[32m, line 43\u001b[39m\n\u001b[32m     40\u001b[39m     embeddings = np.concatenate(embeddings, axis=\u001b[32m0\u001b[39m)\n\u001b[32m     41\u001b[39m     \u001b[38;5;28;01mreturn\u001b[39;00m embeddings\n\u001b[32m---> \u001b[39m\u001b[32m43\u001b[39m embeddings = \u001b[43mget_embeddings_batch\u001b[49m\u001b[43m(\u001b[49m\n\u001b[32m     44\u001b[39m \u001b[43m    \u001b[49m\u001b[43mtexts\u001b[49m\u001b[43m,\u001b[49m\u001b[43m \u001b[49m\u001b[43mmodel\u001b[49m\u001b[43m,\u001b[49m\u001b[43m \u001b[49m\u001b[43mtokenizer\u001b[49m\u001b[43m,\u001b[49m\u001b[43m \u001b[49m\u001b[43mbatch_size\u001b[49m\u001b[43m=\u001b[49m\u001b[43mBATCH_SIZE\u001b[49m\u001b[43m,\u001b[49m\u001b[43m \u001b[49m\u001b[43mmax_len\u001b[49m\u001b[43m=\u001b[49m\u001b[43mMAX_LEN\u001b[49m\u001b[43m,\u001b[49m\u001b[43m \u001b[49m\u001b[43mdevice\u001b[49m\u001b[43m=\u001b[49m\u001b[43mdevice\u001b[49m\n\u001b[32m     45\u001b[39m \u001b[43m)\u001b[49m\n\u001b[32m     46\u001b[39m \u001b[38;5;28mprint\u001b[39m(\u001b[33m\"\u001b[39m\u001b[33mEmbeddings shape:\u001b[39m\u001b[33m\"\u001b[39m, embeddings.shape)\n",
      "\u001b[36mCell\u001b[39m\u001b[36m \u001b[39m\u001b[32mIn[12]\u001b[39m\u001b[32m, line 38\u001b[39m, in \u001b[36mget_embeddings_batch\u001b[39m\u001b[34m(texts, model, tokenizer, batch_size, max_len, device)\u001b[39m\n\u001b[32m     36\u001b[39m         outputs = model(input_ids=input_ids, attention_mask=attention_mask)\n\u001b[32m     37\u001b[39m         \u001b[38;5;66;03m# CLS token embedding for each item in batch\u001b[39;00m\n\u001b[32m---> \u001b[39m\u001b[32m38\u001b[39m         cls_embeddings = \u001b[43moutputs\u001b[49m\u001b[43m.\u001b[49m\u001b[43mlast_hidden_state\u001b[49m\u001b[43m[\u001b[49m\u001b[43m:\u001b[49m\u001b[43m,\u001b[49m\u001b[43m \u001b[49m\u001b[32;43m0\u001b[39;49m\u001b[43m,\u001b[49m\u001b[43m \u001b[49m\u001b[43m:\u001b[49m\u001b[43m]\u001b[49m\u001b[43m.\u001b[49m\u001b[43mcpu\u001b[49m\u001b[43m(\u001b[49m\u001b[43m)\u001b[49m.numpy()\n\u001b[32m     39\u001b[39m         embeddings.append(cls_embeddings)\n\u001b[32m     40\u001b[39m embeddings = np.concatenate(embeddings, axis=\u001b[32m0\u001b[39m)\n",
      "\u001b[31mKeyboardInterrupt\u001b[39m: "
     ]
    }
   ],
   "source": [
    "import torch\n",
    "from transformers import BertTokenizer, BertModel\n",
    "from tqdm import tqdm\n",
    "import numpy as np\n",
    "import pandas as pd\n",
    "\n",
    "# Check CUDA\n",
    "device = torch.device(\"cuda\" if torch.cuda.is_available() else \"cpu\")\n",
    "print(\"Using device:\", device)\n",
    "\n",
    "# Load model/tokenizer (use 'neuralmind/bert-base-portuguese-cased' for BERTimbau)\n",
    "tokenizer = BertTokenizer.from_pretrained('bert-base-uncased')\n",
    "model = BertModel.from_pretrained('bert-base-uncased').to(device)\n",
    "model.eval()\n",
    "\n",
    "# Parameters\n",
    "BATCH_SIZE = 8  # Adjust for your GPU memory \n",
    "MAX_LEN = 512  # Adjust for your data length\n",
    "\n",
    "# Texts to embed\n",
    "texts = df[\"preprocessed_news\"].tolist()\n",
    "\n",
    "# Batched embedding function\n",
    "def get_embeddings_batch(texts, model, tokenizer, batch_size=32, max_len=128, device='cpu'):\n",
    "    embeddings = []\n",
    "    with torch.no_grad():\n",
    "        for i in tqdm(range(0, len(texts), batch_size)):\n",
    "            batch_texts = texts[i:i+batch_size]\n",
    "            encodings = tokenizer(batch_texts, \n",
    "                                  return_tensors='pt', \n",
    "                                  padding=True, \n",
    "                                  truncation=True, \n",
    "                                  max_length=max_len)\n",
    "            input_ids = encodings['input_ids'].to(device)\n",
    "            attention_mask = encodings['attention_mask'].to(device)\n",
    "            outputs = model(input_ids=input_ids, attention_mask=attention_mask)\n",
    "            # CLS token embedding for each item in batch\n",
    "            cls_embeddings = outputs.last_hidden_state[:, 0, :].cpu().numpy()\n",
    "            embeddings.append(cls_embeddings)\n",
    "    embeddings = np.concatenate(embeddings, axis=0)\n",
    "    return embeddings\n",
    "\n",
    "embeddings = get_embeddings_batch(\n",
    "    texts, model, tokenizer, batch_size=BATCH_SIZE, max_len=MAX_LEN, device=device\n",
    ")\n",
    "print(\"Embeddings shape:\", embeddings.shape)\n",
    "np.save('outputs/embeddings_bertbase.npy', embeddings)\n",
    "df['label'].to_csv('outputs/labels.csv', index=False)\n"
   ]
  },
  {
   "cell_type": "code",
   "execution_count": null,
   "id": "4a7e700e",
   "metadata": {},
   "outputs": [
    {
     "ename": "SyntaxError",
     "evalue": "invalid non-printable character U+00A0 (3745882828.py, line 9)",
     "output_type": "error",
     "traceback": [
      "  \u001b[36mCell\u001b[39m\u001b[36m \u001b[39m\u001b[32mIn[8]\u001b[39m\u001b[32m, line 9\u001b[39m\n\u001b[31m    \u001b[39m\u001b[31mprint(classification_report(y_test, y_pred))\u001b[39m\n                                       ^\n\u001b[31mSyntaxError\u001b[39m\u001b[31m:\u001b[39m invalid non-printable character U+00A0\n"
     ]
    }
   ],
   "source": [
    "import numpy as np\n",
    "import pandas as pd\n",
    "from sklearn.linear_model import LogisticRegression\n",
    "from sklearn.metrics import classification_report, confusion_matrix\n",
    "\n",
    "# Load embeddings and labels\n",
    "embeddings = np.load('outputs/embeddings_bertbase.npy')\n",
    "labels = pd.read_csv('outputs/labels.csv').values.ravel()  # ravel() to flatten to 1D\n",
    "\n",
    "# Split (use the same indices as train/val/test if you did this before embedding)\n",
    "from sklearn.model_selection import train_test_split\n",
    "X_train, X_test, y_train, y_test = train_test_split(\n",
    "    embeddings, labels, test_size=0.2, random_state=42, stratify=labels\n",
    ")\n",
    "\n",
    "# Train classifier\n",
    "clf = LogisticRegression(max_iter=1000, random_state=42)\n",
    "clf.fit(X_train, y_train)\n",
    "\n",
    "# Evaluate\n",
    "y_pred = clf.predict(X_test)\n",
    "print(classification_report(y_test, y_pred))\n",
    "print(confusion_matrix(y_test, y_pred))\n"
   ]
  },
  {
   "cell_type": "code",
   "execution_count": null,
   "id": "54cb685c",
   "metadata": {},
   "outputs": [],
   "source": []
  }
 ],
 "metadata": {
  "kernelspec": {
   "display_name": ".venv",
   "language": "python",
   "name": "python3"
  },
  "language_info": {
   "codemirror_mode": {
    "name": "ipython",
    "version": 3
   },
   "file_extension": ".py",
   "mimetype": "text/x-python",
   "name": "python",
   "nbconvert_exporter": "python",
   "pygments_lexer": "ipython3",
   "version": "3.12.5"
  }
 },
 "nbformat": 4,
 "nbformat_minor": 5
}
